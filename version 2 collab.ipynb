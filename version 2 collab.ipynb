{
  "nbformat": 4,
  "nbformat_minor": 0,
  "metadata": {
    "colab": {
      "provenance": []
    },
    "kernelspec": {
      "name": "python3",
      "display_name": "Python 3"
    },
    "language_info": {
      "name": "python"
    }
  },
  "cells": [
    {
      "cell_type": "markdown",
      "source": [
        "## **PRACTICAL SESSION 1** — Deep Learning for predictive maintenance"
      ],
      "metadata": {
        "id": "ZLQS0KLMycmb"
      }
    },
    {
      "cell_type": "markdown",
      "source": [
        "The dataset used is the **AI4I 2020** Predictive Maintenance Dataset, which contains 10,000 instances of industrial sensor data. Each instance represents the operating condition of a machine and is associated with a label indicating whether a failure has occurred and, if so, what type of failure it is.\n",
        "\n",
        "The 5 possible labels are:\n",
        "\n",
        "\n",
        "\n",
        "*   **TWF**: Tool Wear Failure\n",
        "*   **HDF**: Heat Dissipation Failure\n",
        "*   **PWF**: Power Failure\n",
        "*   **OSF**: Overstrain Failure\n",
        "*   **RNF**: Random Failure\n",
        "\n",
        "\n",
        "The data is available on eCAMPUS as CSV file called: \"ai4i2020.csv\"\n",
        "\n"
      ],
      "metadata": {
        "id": "3mjNAfgj4K1_"
      }
    },
    {
      "cell_type": "markdown",
      "source": [
        "## **PRACTICAL SESSION Goal** — Ceate a deep leanring model allowing to realize a predictive maintenance mission"
      ],
      "metadata": {
        "id": "4_LBMVsgRI9W"
      }
    },
    {
      "cell_type": "markdown",
      "source": [
        "## **1 - Analysis of the dataset**\n",
        "\n"
      ],
      "metadata": {
        "id": "wt7L0p4MbIIw"
      }
    },
    {
      "cell_type": "markdown",
      "source": [
        "All libraries used ***SHOULD BE PLACED*** in the code cell below\n",
        "\n",
        "> Ajouter une citation\n",
        "\n"
      ],
      "metadata": {
        "id": "0JFIZ6mtRapt"
      }
    },
    {
      "cell_type": "code",
      "execution_count": 4,
      "metadata": {
        "id": "UQp7FGSb5Vlv"
      },
      "outputs": [],
      "source": [
        "import pandas as pd\n",
        "import numpy as np\n",
        "import matplotlib.pyplot as plt\n",
        "import seaborn as sns"
      ]
    },
    {
      "cell_type": "markdown",
      "source": [
        "**QUESTION:** Load dataset and display some lines of the csv file."
      ],
      "metadata": {
        "id": "eFRcS74MDeSf"
      }
    },
    {
      "cell_type": "code",
      "source": [
        "from google.colab import drive\n",
        "drive.mount('/content/drive')\n",
        "\n"
      ],
      "metadata": {
        "id": "9l044FZ_5-fN",
        "colab": {
          "base_uri": "https://localhost:8080/"
        },
        "outputId": "0f716a86-4003-4ae5-9157-f3130181b7e4"
      },
      "execution_count": 5,
      "outputs": [
        {
          "output_type": "stream",
          "name": "stdout",
          "text": [
            "Mounted at /content/drive\n"
          ]
        }
      ]
    },
    {
      "cell_type": "code",
      "source": [
        "data = pd.read_csv(\"/content/drive/MyDrive/Colab Notebooks/data/ai4i2020.csv\")\n",
        "print(data.head())"
      ],
      "metadata": {
        "colab": {
          "base_uri": "https://localhost:8080/"
        },
        "id": "INd6Ys43aosd",
        "outputId": "17ede4e7-8d7b-42c9-d081-6f1efe54a184"
      },
      "execution_count": 6,
      "outputs": [
        {
          "output_type": "stream",
          "name": "stdout",
          "text": [
            "   UDI Product ID Type  Air temperature [K]  Process temperature [K]  \\\n",
            "0    1     M14860    M                298.1                    308.6   \n",
            "1    2     L47181    L                298.2                    308.7   \n",
            "2    3     L47182    L                298.1                    308.5   \n",
            "3    4     L47183    L                298.2                    308.6   \n",
            "4    5     L47184    L                298.2                    308.7   \n",
            "\n",
            "   Rotational speed [rpm]  Torque [Nm]  Tool wear [min]  Machine failure  TWF  \\\n",
            "0                    1551         42.8                0                0    0   \n",
            "1                    1408         46.3                3                0    0   \n",
            "2                    1498         49.4                5                0    0   \n",
            "3                    1433         39.5                7                0    0   \n",
            "4                    1408         40.0                9                0    0   \n",
            "\n",
            "   HDF  PWF  OSF  RNF  \n",
            "0    0    0    0    0  \n",
            "1    0    0    0    0  \n",
            "2    0    0    0    0  \n",
            "3    0    0    0    0  \n",
            "4    0    0    0    0  \n"
          ]
        }
      ]
    },
    {
      "cell_type": "markdown",
      "source": [
        "[texte du lien](https://)**QUESTION:** Display the distribution of machine\n",
        "\n",
        "\n",
        "\n",
        "failures and non-failures with a bar graph."
      ],
      "metadata": {
        "id": "joQOXoqaD8JA"
      }
    },
    {
      "cell_type": "code",
      "source": [
        "# 'Machine failure' column is usually a binary indicator (0 = no failure, 1 = failure)\n",
        "failure_counts = data['Machine failure'].value_counts()\n",
        "\n",
        "# Plot the distribution\n",
        "plt.figure(figsize=(6,4))\n",
        "sns.barplot(x=failure_counts.index, y=failure_counts.values, palette='viridis')\n",
        "\n",
        "# Customize the plot\n",
        "plt.title('Distribution of Machine Failures and Non-Failures')\n",
        "plt.xlabel('Machine Failure (0 = No, 1 = Yes)')\n",
        "plt.ylabel('Number of Instances')\n",
        "plt.xticks([0, 1], ['No Failure', 'Failure'])\n",
        "plt.show()"
      ],
      "metadata": {
        "id": "r3Q1l9JoMs7m",
        "colab": {
          "base_uri": "https://localhost:8080/",
          "height": 497
        },
        "outputId": "8905767f-84c2-4082-88b1-3f210538e5e6"
      },
      "execution_count": 7,
      "outputs": [
        {
          "output_type": "stream",
          "name": "stderr",
          "text": [
            "<ipython-input-7-4602cf513cb0>:6: FutureWarning: \n",
            "\n",
            "Passing `palette` without assigning `hue` is deprecated and will be removed in v0.14.0. Assign the `x` variable to `hue` and set `legend=False` for the same effect.\n",
            "\n",
            "  sns.barplot(x=failure_counts.index, y=failure_counts.values, palette='viridis')\n"
          ]
        },
        {
          "output_type": "display_data",
          "data": {
            "text/plain": [
              "<Figure size 600x400 with 1 Axes>"
            ],
            "image/png": "[encoded data removed]"
          },
          "metadata": {}
        }
      ]
    },
    {
      "cell_type": "markdown",
      "source": [
        "**ANALYSIS QUESTION:** What do you observe?\n",
        "\n"
      ],
      "metadata": {
        "id": "vCNIqXVyEkrR"
      }
    },
    {
      "cell_type": "markdown",
      "source": [],
      "metadata": {
        "id": "GuWVEagxa-vu"
      }
    },
    {
      "cell_type": "markdown",
      "source": [
        "the data is unbalanced\n"
      ],
      "metadata": {
        "id": "6BMGtlIWE-C0"
      }
    },
    {
      "cell_type": "markdown",
      "source": [
        "**ANALYSIS QUESTION:** What will be the consequence of this phenomenon on the model's learning?"
      ],
      "metadata": {
        "id": "huU5I4x8SzlN"
      }
    },
    {
      "cell_type": "markdown",
      "source": [
        "If the dataset is unbalanced, the model might focus too much on the more common outcomes, like \"no failure,\" and ignore the rare ones. This makes it less effective at predicting important failures that actually need attention."
      ],
      "metadata": {
        "id": "JHmYROP0TLIS"
      }
    },
    {
      "cell_type": "markdown",
      "source": [
        "**QUESTION:** Create a bar chart showing the distribution of different failure types (TWF, HDF, PWF, OSF, RNF). Display the exact values above each bar in the chart.\""
      ],
      "metadata": {
        "id": "0s-mzCCsSasl"
      }
    },
    {
      "cell_type": "code",
      "source": [
        "# List of failure types\n",
        "failure_types = ['TWF', 'HDF', 'PWF', 'OSF', 'RNF']\n",
        "\n",
        "# Sum the number of failures for each type\n",
        "failure_counts = data[failure_types].sum()\n",
        "\n",
        "# Create a bar chart with a fixed color\n",
        "plt.figure(figsize=(10, 6))\n",
        "sns.barplot(x=failure_counts.index, y=failure_counts.values, color=\"skyblue\")  # Use color directly\n",
        "\n",
        "# Add labels and title\n",
        "plt.xlabel(\"Failure Type\")\n",
        "plt.ylabel(\"Number of Failures\")\n",
        "plt.title(\"Distribution of Different Failure Types\")\n",
        "\n",
        "# Display the exact values above each bar\n",
        "for i, v in enumerate(failure_counts.values):\n",
        "    plt.text(i, v + 5, str(v), ha='center', fontsize=12)\n",
        "\n",
        "# Show the plot\n",
        "plt.show()"
      ],
      "metadata": {
        "id": "nQyJCfamMdJN",
        "colab": {
          "base_uri": "https://localhost:8080/",
          "height": 564
        },
        "outputId": "16e564e3-59fc-4b84-e46c-f7eef34295a0"
      },
      "execution_count": 8,
      "outputs": [
        {
          "output_type": "display_data",
          "data": {
            "text/plain": [
              "<Figure size 1000x600 with 1 Axes>"
            ],
            "image/png": "[encoded data removed]"
          },
          "metadata": {}
        }
      ]
    },
    {
      "cell_type": "markdown",
      "source": [
        "**ANALYSIS QUESTION:** What do you observe?"
      ],
      "metadata": {
        "id": "NXyHa73yU8g_"
      }
    },
    {
      "cell_type": "markdown",
      "source": [
        "The dataset shows an imbalance, with PWF, HDF, and OSF being more common, while TWF and RNF are less frequent. This imbalance may lead to the model being biased toward predicting the more common failure types, potentially overlooking the rarer ones."
      ],
      "metadata": {
        "id": "WRDFE_dsVBBU"
      }
    },
    {
      "cell_type": "markdown",
      "source": [
        "**QUESTION:** Create a bar chart showing the distribution of failure types (TWF, HDF, PWF, OSF, RNF) among machines that experienced a failure (Machine failure == 1). Additionally, add a \"No Specific Failure\" category to count cases where a machine failed but no specific failure type was recorded. Display the exact values above each bar in the chart.\""
      ],
      "metadata": {
        "id": "cvaO2bEIMxLd"
      }
    },
    {
      "cell_type": "code",
      "source": [
        "\n",
        "\n",
        "# Filter the dataset for machines that experienced a failure (Machine failure == 1)\n",
        "failure_data = data[data['Machine failure'] == 1]\n",
        "# List of failure types\n",
        "failure_types = ['TWF', 'HDF', 'PWF', 'OSF', 'RNF']\n",
        "\n",
        "# Sum the number of failures for each type where Machine failure is 1\n",
        "failure_counts = failure_data[failure_types].sum()\n",
        "\n",
        "# Add \"No Specific Failure\" category for cases where no specific failure type is recorded\n",
        "no_specific_failure = (failure_data[failure_types].sum(axis=1) == 0).sum()\n",
        "failure_counts['No Specific Failure'] = no_specific_failure\n",
        "\n",
        "# Create a bar chart with a fixed color\n",
        "plt.figure(figsize=(10, 6))\n",
        "sns.barplot(x=failure_counts.index, y=failure_counts.values, color=\"skyblue\")  # Use color directly\n",
        "\n",
        "# Add labels and title\n",
        "plt.xlabel(\"Failure Type\")\n",
        "plt.ylabel(\"Number of Failures\")\n",
        "plt.title(\"Distribution of Failure Types Among Machines That Experienced a Failure\")\n",
        "\n",
        "# Display the exact values above each bar\n",
        "for i, v in enumerate(failure_counts.values):\n",
        "    plt.text(i, v + 5, str(v), ha='center', fontsize=12)\n",
        "\n",
        "# Show the plot\n",
        "plt.show()\n"
      ],
      "metadata": {
        "id": "e97htGyyMsle",
        "colab": {
          "base_uri": "https://localhost:8080/",
          "height": 564
        },
        "outputId": "888fa589-3f5a-4d97-f1bb-a361d7d76ea7"
      },
      "execution_count": 9,
      "outputs": [
        {
          "output_type": "display_data",
          "data": {
            "text/plain": [
              "<Figure size 1000x600 with 1 Axes>"
            ],
            "image/png": "[encoded data removed]"
          },
          "metadata": {}
        }
      ]
    },
    {
      "cell_type": "markdown",
      "source": [
        "**ANALYSIS QUESTION:** What do you obsrve comapred to the previous question ? What can you conclude?"
      ],
      "metadata": {
        "id": "U6_3vAQCOUGb"
      }
    },
    {
      "cell_type": "markdown",
      "source": [],
      "metadata": {
        "id": "i-6t7nqlOjMo"
      }
    },
    {
      "cell_type": "markdown",
      "source": [
        "**QUESTION:** Display the names of the different columns in the dataset with\n",
        "\n",
        "\n",
        "their respective data types."
      ],
      "metadata": {
        "id": "muXeS0eVVW6H"
      }
    },
    {
      "cell_type": "code",
      "source": [
        "\n",
        "print(data.dtypes)\n"
      ],
      "metadata": {
        "id": "pa9Tptu7nPMp",
        "colab": {
          "base_uri": "https://localhost:8080/"
        },
        "outputId": "2aa41ffa-e5e8-4528-9a80-f204a4c88515"
      },
      "execution_count": 20,
      "outputs": [
        {
          "output_type": "stream",
          "name": "stdout",
          "text": [
            "UDI                          int64\n",
            "Product ID                  object\n",
            "Type                        object\n",
            "Air temperature [K]        float64\n",
            "Process temperature [K]    float64\n",
            "Rotational speed [rpm]       int64\n",
            "Torque [Nm]                float64\n",
            "Tool wear [min]              int64\n",
            "Machine failure              int64\n",
            "TWF                          int64\n",
            "HDF                          int64\n",
            "PWF                          int64\n",
            "OSF                          int64\n",
            "RNF                          int64\n",
            "dtype: object\n"
          ]
        }
      ]
    },
    {
      "cell_type": "markdown",
      "source": [
        "**ANALYSIS QUESTION:** To train the model, what will be the inputs and outputs (What are the names of the columns that you will use?)? Justify your response.\n",
        "Remember, you want to predict if the machine will fail, and if so, what kind of failure. You need to yse previous results to jsurtify your response."
      ],
      "metadata": {
        "id": "cezua1bMVTCM"
      }
    },
    {
      "cell_type": "markdown",
      "source": [
        "### **Inputs (Features):**\n",
        "\n",
        "- **Air temperature [K]**, **Process temperature [K]**, **Rotational speed [rpm]**, **Torque [Nm]**, **Tool wear [min]**: Operational factors that may influence machine failure.\n",
        "\n",
        "### **Outputs (Target):**\n",
        "- **Machine failure**: (0 = no failure, 1 = failure).\n",
        "- **TWF**, **HDF**, **PWF**, **OSF**, **RNF**\n",
        "\n",
        "The features reflect operational conditions that affect machine performance, while the targets focus on predicting failure occurrence and the type of failure."
      ],
      "metadata": {
        "id": "0gy8oDgxbjol"
      }
    },
    {
      "cell_type": "markdown",
      "source": [
        "## **2- Train model Without balancing the dataset**\n",
        "\n",
        "---\n",
        "\n"
      ],
      "metadata": {
        "id": "CFXLkBzTiafx"
      }
    },
    {
      "cell_type": "markdown",
      "source": [
        "In this section, you must build and train a model without rebalancing the dataset."
      ],
      "metadata": {
        "id": "plBeUOCKvVNU"
      }
    },
    {
      "cell_type": "markdown",
      "source": [
        "**QUESTION:** Create X_train, Y_train, X_test, and Y_test. How many elements are present in X_train, Y_train, X_test, and Y_test? (Print the values)"
      ],
      "metadata": {
        "id": "yj7CMqdVbxg2"
      }
    },
    {
      "cell_type": "code",
      "source": [],
      "metadata": {
        "id": "Wdght-L8wQQQ"
      },
      "execution_count": null,
      "outputs": []
    },
    {
      "cell_type": "markdown",
      "source": [
        "**QUESTION** Code below the model architecture"
      ],
      "metadata": {
        "id": "eqBuZsqKdQ7u"
      }
    },
    {
      "cell_type": "code",
      "source": [],
      "metadata": {
        "id": "F35j0VRDdNLc"
      },
      "execution_count": null,
      "outputs": []
    },
    {
      "cell_type": "markdown",
      "source": [
        "**QUESTION** Code below the algorithms allowing to train model\n",
        "\n",
        "**WARNING!** You need to plot the training and test accuracy and loss to check if our model is overfitting"
      ],
      "metadata": {
        "id": "dIONoP2Jdg8Q"
      }
    },
    {
      "cell_type": "code",
      "source": [],
      "metadata": {
        "id": "jJ2bYxZydhW2"
      },
      "execution_count": null,
      "outputs": []
    },
    {
      "cell_type": "markdown",
      "source": [
        "**QUESTION** Plot the confusion matrix and the classification report"
      ],
      "metadata": {
        "id": "yvmyHnqYpbf-"
      }
    },
    {
      "cell_type": "markdown",
      "source": [
        "**Tips:**\n",
        "\n",
        "*   classification report link\n",
        "\n",
        "> https://scikit-learn.org/stable/modules/generated/sklearn.metrics.classification_report.html\n",
        "\n",
        "*   Matrix confusion\n",
        "\n",
        "> https://scikit-learn.org/stable/modules/generated/sklearn.metrics.ConfusionMatrixDisplay.html\n",
        "\n",
        "\n",
        "\n"
      ],
      "metadata": {
        "id": "FUXSeJ1ZpsSP"
      }
    },
    {
      "cell_type": "code",
      "source": [],
      "metadata": {
        "id": "m4q5wvHNnAdu"
      },
      "execution_count": null,
      "outputs": []
    },
    {
      "cell_type": "markdown",
      "source": [
        "**ANALYSIS QUESTION** What do you observe? What can you conclude?"
      ],
      "metadata": {
        "id": "ImGsmryGkKhj"
      }
    },
    {
      "cell_type": "markdown",
      "source": [
        "\"Write your response here\""
      ],
      "metadata": {
        "id": "y1f5OneQknZy"
      }
    },
    {
      "cell_type": "markdown",
      "source": [
        "## **3- Train model With balancing the dataset**\n",
        "\n",
        "---"
      ],
      "metadata": {
        "id": "EYUyUAN5ji0x"
      }
    },
    {
      "cell_type": "markdown",
      "source": [
        " Methods for rebalancing a dataset:\n",
        "\n",
        "\n",
        "*   Use oversampling techniques (e.g., SMOTE) to generate synthetic data for minority classes\n",
        "\n",
        "\n",
        "> https://imbalanced-learn.org/stable/references/generated/imblearn.over_sampling.SMOTE.html\n",
        "\n",
        "\n",
        "\n",
        "*   Apply undersampling techniques (e.g., random undersampling, Tomek Links, Edited Nearest Neighbors) to reduce the majority class size\n",
        "\n",
        "\n",
        "\n",
        "> https://imbalanced-learn.org/stable/references/generated/imblearn.under_sampling.RandomUnderSampler.html\n",
        "\n",
        "\n",
        "\n",
        "*   Use class weighting during model training to penalize errors on minority classes\n",
        "\n",
        "\n",
        "\n",
        "> https://www.tensorflow.org/tutorials/structured_data/imbalanced_data?hl=fr\n"
      ],
      "metadata": {
        "id": "EQWut50JhKdD"
      }
    },
    {
      "cell_type": "markdown",
      "source": [
        "**QUESTION:** Create X_train, Y_train, X_test, and Y_test. How many elements are present in X_train, Y_train, X_test, and Y_test? (Print the values)"
      ],
      "metadata": {
        "id": "--pWJzaUnXdY"
      }
    },
    {
      "cell_type": "code",
      "source": [],
      "metadata": {
        "id": "aLW74cwbdr1U"
      },
      "execution_count": null,
      "outputs": []
    },
    {
      "cell_type": "markdown",
      "source": [
        "**ANALYSIS QUESTION:** Explain the choices you made to balance the dataset."
      ],
      "metadata": {
        "id": "-YcZXIadnbcm"
      }
    },
    {
      "cell_type": "markdown",
      "source": [
        "\"Write your response here\""
      ],
      "metadata": {
        "id": "Rku3pnWxnxhI"
      }
    },
    {
      "cell_type": "markdown",
      "source": [
        "**QUESTION:** Code below the model architecture\n"
      ],
      "metadata": {
        "id": "BVryPCQFn4Dd"
      }
    },
    {
      "cell_type": "markdown",
      "source": [
        "**TIP:** It could be interesting to keep it the same as before"
      ],
      "metadata": {
        "id": "Q5BGfI7TpVDD"
      }
    },
    {
      "cell_type": "code",
      "source": [],
      "metadata": {
        "id": "S0UbMHN6OC51"
      },
      "execution_count": null,
      "outputs": []
    },
    {
      "cell_type": "markdown",
      "source": [
        "**QUESTION** Code below the algorithms allowing to train model\n"
      ],
      "metadata": {
        "id": "wBZyS7DdofFq"
      }
    },
    {
      "cell_type": "code",
      "source": [],
      "metadata": {
        "id": "my6Ck5JbMDOG"
      },
      "execution_count": null,
      "outputs": []
    },
    {
      "cell_type": "markdown",
      "source": [
        "**QUESTION** Plot the confusion matrix and the classification report"
      ],
      "metadata": {
        "id": "77ftkfv5oqp0"
      }
    },
    {
      "cell_type": "code",
      "source": [],
      "metadata": {
        "id": "kRmkOI_co5d9"
      },
      "execution_count": null,
      "outputs": []
    },
    {
      "cell_type": "markdown",
      "source": [
        "**ANALYSIS QUESTION** What do you observe? What can you conclude?"
      ],
      "metadata": {
        "id": "Zn5BBAI3pHXf"
      }
    },
    {
      "cell_type": "markdown",
      "source": [
        "\"Write your response here\""
      ],
      "metadata": {
        "id": "SIf8rfU9pIGd"
      }
    }
  ]
}