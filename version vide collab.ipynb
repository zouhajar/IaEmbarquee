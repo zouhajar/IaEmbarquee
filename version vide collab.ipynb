{
  "nbformat": 4,
  "nbformat_minor": 0,
  "metadata": {
    "colab": {
      "provenance": []
    },
    "kernelspec": {
      "name": "python3",
      "display_name": "Python 3"
    },
    "language_info": {
      "name": "python"
    }
  },
  "cells": [
    {
      "cell_type": "markdown",
      "source": [
        "## **PRACTICAL SESSION 1** — Deep Learning for predictive maintenance"
      ],
      "metadata": {
        "id": "ZLQS0KLMycmb"
      }
    },
    {
      "cell_type": "markdown",
      "source": [
        "The dataset used is the **AI4I 2020** Predictive Maintenance Dataset, which contains 10,000 instances of industrial sensor data. Each instance represents the operating condition of a machine and is associated with a label indicating whether a failure has occurred and, if so, what type of failure it is.\n",
        "\n",
        "The 5 possible labels are:\n",
        "\n",
        "\n",
        "\n",
        "*   **TWF**: Tool Wear Failure\n",
        "*   **HDF**: Heat Dissipation Failure\n",
        "*   **PWF**: Power Failure\n",
        "*   **OSF**: Overstrain Failure\n",
        "*   **RNF**: Random Failure\n",
        "\n",
        "\n",
        "The data is available on eCAMPUS as CSV file called: \"ai4i2020.csv\"\n",
        "\n"
      ],
      "metadata": {
        "id": "3mjNAfgj4K1_"
      }
    },
    {
      "cell_type": "markdown",
      "source": [
        "## **PRACTICAL SESSION Goal** — Ceate a deep leanring model allowing to realize a predictive maintenance mission"
      ],
      "metadata": {
        "id": "4_LBMVsgRI9W"
      }
    },
    {
      "cell_type": "markdown",
      "source": [
        "## **1 - Analysis of the dataset**\n",
        "\n"
      ],
      "metadata": {
        "id": "wt7L0p4MbIIw"
      }
    },
    {
      "cell_type": "markdown",
      "source": [
        "All libraries used ***SHOULD BE PLACED*** in the code cell below"
      ],
      "metadata": {
        "id": "0JFIZ6mtRapt"
      }
    },
    {
      "cell_type": "code",
      "execution_count": null,
      "metadata": {
        "id": "UQp7FGSb5Vlv"
      },
      "outputs": [],
      "source": []
    },
    {
      "cell_type": "markdown",
      "source": [
        "**QUESTION:** Load dataset and display some lines of the csv file."
      ],
      "metadata": {
        "id": "eFRcS74MDeSf"
      }
    },
    {
      "cell_type": "code",
      "source": [],
      "metadata": {
        "id": "9l044FZ_5-fN"
      },
      "execution_count": null,
      "outputs": []
    },
    {
      "cell_type": "markdown",
      "source": [
        "**QUESTION:** Display the distribution of machine failures and non-failures with a bar graph."
      ],
      "metadata": {
        "id": "joQOXoqaD8JA"
      }
    },
    {
      "cell_type": "code",
      "source": [],
      "metadata": {
        "id": "r3Q1l9JoMs7m"
      },
      "execution_count": null,
      "outputs": []
    },
    {
      "cell_type": "markdown",
      "source": [
        "**ANALYSIS QUESTION:** What do you observe?"
      ],
      "metadata": {
        "id": "vCNIqXVyEkrR"
      }
    },
    {
      "cell_type": "markdown",
      "source": [
        "\"Write here your response\""
      ],
      "metadata": {
        "id": "6BMGtlIWE-C0"
      }
    },
    {
      "cell_type": "markdown",
      "source": [
        "**ANALYSIS QUESTION:** What will be the consequence of this phenomenon on the model's learning?"
      ],
      "metadata": {
        "id": "huU5I4x8SzlN"
      }
    },
    {
      "cell_type": "markdown",
      "source": [
        "\"Write here your response\""
      ],
      "metadata": {
        "id": "JHmYROP0TLIS"
      }
    },
    {
      "cell_type": "markdown",
      "source": [
        "**QUESTION:** Create a bar chart showing the distribution of different failure types (TWF, HDF, PWF, OSF, RNF). Display the exact values above each bar in the chart.\""
      ],
      "metadata": {
        "id": "0s-mzCCsSasl"
      }
    },
    {
      "cell_type": "code",
      "source": [],
      "metadata": {
        "id": "nQyJCfamMdJN"
      },
      "execution_count": null,
      "outputs": []
    },
    {
      "cell_type": "markdown",
      "source": [
        "**ANALYSIS QUESTION:** What do you observe?"
      ],
      "metadata": {
        "id": "NXyHa73yU8g_"
      }
    },
    {
      "cell_type": "markdown",
      "source": [
        "\"Write here your response\""
      ],
      "metadata": {
        "id": "WRDFE_dsVBBU"
      }
    },
    {
      "cell_type": "markdown",
      "source": [
        "**QUESTION:** Create a bar chart showing the distribution of failure types (TWF, HDF, PWF, OSF, RNF) among machines that experienced a failure (Machine failure == 1). Additionally, add a \"No Specific Failure\" category to count cases where a machine failed but no specific failure type was recorded. Display the exact values above each bar in the chart.\""
      ],
      "metadata": {
        "id": "cvaO2bEIMxLd"
      }
    },
    {
      "cell_type": "code",
      "source": [],
      "metadata": {
        "id": "e97htGyyMsle"
      },
      "execution_count": null,
      "outputs": []
    },
    {
      "cell_type": "markdown",
      "source": [
        "**ANALYSIS QUESTION:** What do you obsrve comapred to the previous question ? What can you conclude?"
      ],
      "metadata": {
        "id": "U6_3vAQCOUGb"
      }
    },
    {
      "cell_type": "markdown",
      "source": [
        "\"Write your response here\""
      ],
      "metadata": {
        "id": "i-6t7nqlOjMo"
      }
    },
    {
      "cell_type": "markdown",
      "source": [
        "**QUESTION:** Display the names of the different columns in the dataset with their respective data types."
      ],
      "metadata": {
        "id": "muXeS0eVVW6H"
      }
    },
    {
      "cell_type": "code",
      "source": [],
      "metadata": {
        "id": "pa9Tptu7nPMp"
      },
      "execution_count": null,
      "outputs": []
    },
    {
      "cell_type": "markdown",
      "source": [
        "**ANALYSIS QUESTION:** To train the model, what will be the inputs and outputs (What are the names of the columns that you will use?)? Justify your response.\n",
        "Remember, you want to predict if the machine will fail, and if so, what kind of failure. You need to yse previous results to jsurtify your response."
      ],
      "metadata": {
        "id": "cezua1bMVTCM"
      }
    },
    {
      "cell_type": "markdown",
      "source": [
        "\"Write your response here\""
      ],
      "metadata": {
        "id": "0gy8oDgxbjol"
      }
    },
    {
      "cell_type": "markdown",
      "source": [
        "## **2- Train model Without balancing the dataset**\n",
        "\n",
        "---\n",
        "\n"
      ],
      "metadata": {
        "id": "CFXLkBzTiafx"
      }
    },
    {
      "cell_type": "markdown",
      "source": [
        "In this section, you must build and train a model without rebalancing the dataset."
      ],
      "metadata": {
        "id": "plBeUOCKvVNU"
      }
    },
    {
      "cell_type": "markdown",
      "source": [
        "**QUESTION:** Create X_train, Y_train, X_test, and Y_test. How many elements are present in X_train, Y_train, X_test, and Y_test? (Print the values)"
      ],
      "metadata": {
        "id": "yj7CMqdVbxg2"
      }
    },
    {
      "cell_type": "code",
      "source": [],
      "metadata": {
        "id": "Wdght-L8wQQQ"
      },
      "execution_count": null,
      "outputs": []
    },
    {
      "cell_type": "markdown",
      "source": [
        "**QUESTION** Code below the model architecture"
      ],
      "metadata": {
        "id": "eqBuZsqKdQ7u"
      }
    },
    {
      "cell_type": "code",
      "source": [],
      "metadata": {
        "id": "F35j0VRDdNLc"
      },
      "execution_count": null,
      "outputs": []
    },
    {
      "cell_type": "markdown",
      "source": [
        "**QUESTION** Code below the algorithms allowing to train model\n",
        "\n",
        "**WARNING!** You need to plot the training and test accuracy and loss to check if our model is overfitting"
      ],
      "metadata": {
        "id": "dIONoP2Jdg8Q"
      }
    },
    {
      "cell_type": "code",
      "source": [],
      "metadata": {
        "id": "jJ2bYxZydhW2"
      },
      "execution_count": null,
      "outputs": []
    },
    {
      "cell_type": "markdown",
      "source": [
        "**QUESTION** Plot the confusion matrix and the classification report"
      ],
      "metadata": {
        "id": "yvmyHnqYpbf-"
      }
    },
    {
      "cell_type": "markdown",
      "source": [
        "**Tips:**\n",
        "\n",
        "*   classification report link\n",
        "\n",
        "> https://scikit-learn.org/stable/modules/generated/sklearn.metrics.classification_report.html\n",
        "\n",
        "*   Matrix confusion\n",
        "\n",
        "> https://scikit-learn.org/stable/modules/generated/sklearn.metrics.ConfusionMatrixDisplay.html\n",
        "\n",
        "\n",
        "\n"
      ],
      "metadata": {
        "id": "FUXSeJ1ZpsSP"
      }
    },
    {
      "cell_type": "code",
      "source": [],
      "metadata": {
        "id": "m4q5wvHNnAdu"
      },
      "execution_count": null,
      "outputs": []
    },
    {
      "cell_type": "markdown",
      "source": [
        "**ANALYSIS QUESTION** What do you observe? What can you conclude?"
      ],
      "metadata": {
        "id": "ImGsmryGkKhj"
      }
    },
    {
      "cell_type": "markdown",
      "source": [
        "\"Write your response here\""
      ],
      "metadata": {
        "id": "y1f5OneQknZy"
      }
    },
    {
      "cell_type": "markdown",
      "source": [
        "## **3- Train model With balancing the dataset**\n",
        "\n",
        "---"
      ],
      "metadata": {
        "id": "EYUyUAN5ji0x"
      }
    },
    {
      "cell_type": "markdown",
      "source": [
        " Methods for rebalancing a dataset:\n",
        "\n",
        "\n",
        "*   Use oversampling techniques (e.g., SMOTE) to generate synthetic data for minority classes\n",
        "\n",
        "\n",
        "> https://imbalanced-learn.org/stable/references/generated/imblearn.over_sampling.SMOTE.html\n",
        "\n",
        "\n",
        "\n",
        "*   Apply undersampling techniques (e.g., random undersampling, Tomek Links, Edited Nearest Neighbors) to reduce the majority class size\n",
        "\n",
        "\n",
        "\n",
        "> https://imbalanced-learn.org/stable/references/generated/imblearn.under_sampling.RandomUnderSampler.html\n",
        "\n",
        "\n",
        "\n",
        "*   Use class weighting during model training to penalize errors on minority classes\n",
        "\n",
        "\n",
        "\n",
        "> https://www.tensorflow.org/tutorials/structured_data/imbalanced_data?hl=fr\n"
      ],
      "metadata": {
        "id": "EQWut50JhKdD"
      }
    },
    {
      "cell_type": "markdown",
      "source": [
        "**QUESTION:** Create X_train, Y_train, X_test, and Y_test. How many elements are present in X_train, Y_train, X_test, and Y_test? (Print the values)"
      ],
      "metadata": {
        "id": "--pWJzaUnXdY"
      }
    },
    {
      "cell_type": "code",
      "source": [],
      "metadata": {
        "id": "aLW74cwbdr1U"
      },
      "execution_count": null,
      "outputs": []
    },
    {
      "cell_type": "markdown",
      "source": [
        "**ANALYSIS QUESTION:** Explain the choices you made to balance the dataset."
      ],
      "metadata": {
        "id": "-YcZXIadnbcm"
      }
    },
    {
      "cell_type": "markdown",
      "source": [
        "\"Write your response here\""
      ],
      "metadata": {
        "id": "Rku3pnWxnxhI"
      }
    },
    {
      "cell_type": "markdown",
      "source": [
        "**QUESTION:** Code below the model architecture\n"
      ],
      "metadata": {
        "id": "BVryPCQFn4Dd"
      }
    },
    {
      "cell_type": "markdown",
      "source": [
        "**TIP:** It could be interesting to keep it the same as before"
      ],
      "metadata": {
        "id": "Q5BGfI7TpVDD"
      }
    },
    {
      "cell_type": "code",
      "source": [],
      "metadata": {
        "id": "S0UbMHN6OC51"
      },
      "execution_count": null,
      "outputs": []
    },
    {
      "cell_type": "markdown",
      "source": [
        "**QUESTION** Code below the algorithms allowing to train model\n"
      ],
      "metadata": {
        "id": "wBZyS7DdofFq"
      }
    },
    {
      "cell_type": "code",
      "source": [],
      "metadata": {
        "id": "my6Ck5JbMDOG"
      },
      "execution_count": null,
      "outputs": []
    },
    {
      "cell_type": "markdown",
      "source": [
        "**QUESTION** Plot the confusion matrix and the classification report"
      ],
      "metadata": {
        "id": "77ftkfv5oqp0"
      }
    },
    {
      "cell_type": "code",
      "source": [],
      "metadata": {
        "id": "kRmkOI_co5d9"
      },
      "execution_count": null,
      "outputs": []
    },
    {
      "cell_type": "markdown",
      "source": [
        "**ANALYSIS QUESTION** What do you observe? What can you conclude?"
      ],
      "metadata": {
        "id": "Zn5BBAI3pHXf"
      }
    },
    {
      "cell_type": "markdown",
      "source": [
        "\"Write your response here\""
      ],
      "metadata": {
        "id": "SIf8rfU9pIGd"
      }
    }
  ]
}